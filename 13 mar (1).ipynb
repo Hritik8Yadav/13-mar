{
 "cells": [
  {
   "cell_type": "code",
   "execution_count": 1,
   "id": "3c2fcd3b-9470-40b4-9fd5-a8ce382fd37a",
   "metadata": {},
   "outputs": [
    {
     "data": {
      "text/plain": [
       "'Ans1: Following are the assumptions in ANOVA:-\\n        \\n            (i). Normality: The data in each group follows a normal distribution. \\n                            Violation of this assumption occurs when the data is skewed or has outliers.\\n           (ii). Homogeneity of variance: The variances of the groups being compared are equal. \\n                                          Violation of this assumption occurs when the variances are significantly different across groups.\\n          (iii). Independence: Observations in each group are independent of each other. \\n                               Violation of this assumption occurs when observations within a group are correlated or when there is clustering.\\n'"
      ]
     },
     "execution_count": 1,
     "metadata": {},
     "output_type": "execute_result"
    }
   ],
   "source": [
    "'''Ans1: Following are the assumptions in ANOVA:-\n",
    "        \n",
    "            (i). Normality: The data in each group follows a normal distribution. \n",
    "                            Violation of this assumption occurs when the data is skewed or has outliers.\n",
    "           (ii). Homogeneity of variance: The variances of the groups being compared are equal. \n",
    "                                          Violation of this assumption occurs when the variances are significantly different across groups.\n",
    "          (iii). Independence: Observations in each group are independent of each other. \n",
    "                               Violation of this assumption occurs when observations within a group are correlated or when there is clustering.\n",
    "'''"
   ]
  },
  {
   "cell_type": "code",
   "execution_count": 2,
   "id": "06cec6fd-19f0-47ff-b750-d8d95cf0ccae",
   "metadata": {},
   "outputs": [
    {
     "data": {
      "text/plain": [
       "'Ans2. Follwing are the different types of ANOVA:\\n        \\n        (i). One way Anova: In this type of anova there is one factor and 2 or more levels and the levels are independent of \\n                            each other this is useful to compare two or more levels.\\n        (ii). Repeated measure Anova: In this type of anova there is minimum two levels of a factor and these levels\\n                                      are dependent of each other. It is useful where there is comparision with dependency\\n        (iii). Factorial Anova: In this type of anova there is more then one factor each with altleast two levels, these levels\\n                                can either be dependent or independent of each other. It is used in more complex comparision \\n                                such as if we want to compare two factors with levels then this anova is used\\n'"
      ]
     },
     "execution_count": 2,
     "metadata": {},
     "output_type": "execute_result"
    }
   ],
   "source": [
    "'''Ans2. Follwing are the different types of ANOVA:\n",
    "        \n",
    "        (i). One way Anova: In this type of anova there is one factor and 2 or more levels and the levels are independent of \n",
    "                            each other this is useful to compare two or more levels.\n",
    "        (ii). Repeated measure Anova: In this type of anova there is minimum two levels of a factor and these levels\n",
    "                                      are dependent of each other. It is useful where there is comparision with dependency\n",
    "        (iii). Factorial Anova: In this type of anova there is more then one factor each with altleast two levels, these levels\n",
    "                                can either be dependent or independent of each other. It is used in more complex comparision \n",
    "                                such as if we want to compare two factors with levels then this anova is used\n",
    "'''"
   ]
  },
  {
   "cell_type": "code",
   "execution_count": 3,
   "id": "0ae4760d-e26b-4a99-8ca6-33edf8c9794c",
   "metadata": {},
   "outputs": [
    {
     "data": {
      "text/plain": [
       "'Ans3: The partitioning of variance in ANOVA is the process of dividing the total variance observed in a set of data into two or more components to identify the sources of variation. \\n         This is important because it helps us to understand how much of the observed variation can be explained by the factors we are interested in and how much is due to random variation or unobserved factors.\\n         Understanding the partitioning of variance is important because it allows us to identify which factors are contributing the most to the observed differences between groups. \\n         This information can help us to better understand the underlying mechanisms that are driving these differences and can guide future research or interventions.\\n'"
      ]
     },
     "execution_count": 3,
     "metadata": {},
     "output_type": "execute_result"
    }
   ],
   "source": [
    "'''Ans3: The partitioning of variance in ANOVA is the process of dividing the total variance observed in a set of data into two or more components to identify the sources of variation. \n",
    "         This is important because it helps us to understand how much of the observed variation can be explained by the factors we are interested in and how much is due to random variation or unobserved factors.\n",
    "         Understanding the partitioning of variance is important because it allows us to identify which factors are contributing the most to the observed differences between groups. \n",
    "         This information can help us to better understand the underlying mechanisms that are driving these differences and can guide future research or interventions.\n",
    "'''"
   ]
  },
  {
   "cell_type": "code",
   "execution_count": null,
   "id": "c090349d-d880-4298-9b0a-12f3a5eaa19c",
   "metadata": {},
   "outputs": [],
   "source": [
    "'''Ans4: The following three are calculated using:\n",
    "            ss_total = ((data['Y'] - data['Y'].mean())**2).sum()\n",
    "            \n",
    "            sse = ((data['Y'] - data['Group'].apply(lambda x: group_means[x]))**2).sum()\n",
    "            \n",
    "            ssr = ss_total - sse\n",
    "\n",
    "\n",
    "            \n",
    "'''"
   ]
  },
  {
   "cell_type": "code",
   "execution_count": null,
   "id": "ee6ad035-92c7-4ce9-ac05-4188df8f9953",
   "metadata": {},
   "outputs": [],
   "source": [
    "'''Ans5: we can use the statsmodels library to fit a two-way ANOVA model and then use the anova_lm function from statsmodels.stats.anova to calculate the ANOVA table, \n",
    "         which includes the sums of squares and F-tests for the main effects and interaction effect. \n",
    "         main_effect_a = anova_table.loc['A', 'sum_sq'] / anova_table['sum_sq'].sum()\n",
    "         main_effect_b = anova_table.loc['B', 'sum_sq'] / anova_table['sum_sq'].sum()\n",
    "         interaction_effect = anova_table.loc['A:B', 'sum_sq'] / anova_table['sum_sq'].sum()\n",
    "'''"
   ]
  },
  {
   "cell_type": "code",
   "execution_count": null,
   "id": "2560eb4e-6eee-49f9-9c46-224093b28516",
   "metadata": {},
   "outputs": [],
   "source": [
    "'''Ans6: As given in the question the f value is 5.23 which is larger then 1 this means that the variance between\n",
    "         the groups is larger then the variance within the group because,\n",
    "             \n",
    "                            variance between the groups\n",
    "                       f =  ---------------------------\n",
    "                             variance within the group\n",
    "         this means the groups are significantly different from each other.\n",
    "        \n",
    "         The given p value is 0.02 which when compared to the common significant level 0.05 which is greater then\n",
    "         p value so the null hypothesis is rejected.\n",
    "'''"
   ]
  },
  {
   "cell_type": "code",
   "execution_count": null,
   "id": "05dbb211-3c17-42c8-85ac-2591ca5668e4",
   "metadata": {},
   "outputs": [],
   "source": [
    "'''Ans7: The missing values in ANOVA can leads to incomplete result or unexpected result as the result will be moer\n",
    "         biased toward any group which will have less missing value.\n",
    "         \n",
    "         The following are the technique that can be used to fill the missing value:\n",
    "             \n",
    "             i. Deleting listwise: This process include the deletion of the values which is missing.\n",
    "             ii. Mean Imputation: This process include the replacing the missing elements with the averge values.\n",
    "             iii. Multiple Imputation: This process include the replacing the missing elements with the inferencing values.\n",
    "'''\n"
   ]
  },
  {
   "cell_type": "code",
   "execution_count": null,
   "id": "8551e9c0-2478-4e5f-bda8-ac9e74f89779",
   "metadata": {},
   "outputs": [],
   "source": [
    "'''Ans8: Here are some common post hoc tests and when they might be used:\n",
    "\n",
    "            i. Tukey's Honestly Significant Difference (HSD) Test: Tukey's HSD test is commonly used when there \n",
    "               are more than two groups and is considered conservative, meaning it controls the family-wise error \n",
    "               rate (i.e., the probability of making a Type I error across all comparisons) at a desired level.\n",
    "\n",
    "            ii. Bonferroni Correction: The Bonferroni correction is a simple method to control the family-wise \n",
    "                error rate by dividing the desired alpha level (e.g., 0.05) by the number of comparisons being \n",
    "                made. It is often used when there are a small number of planned comparisons\n",
    "\n",
    "            iii. Sidak Correction: The Sidak correction is another method to control the family-wise error rate, \n",
    "                 which is less conservative compared to the Bonferroni correction.\n",
    "\n",
    "            iv. Scheffe's Test: Scheffe's test is a more conservative post hoc test that is used when there are \n",
    "                unequal sample sizes or unequal variances between groups.\n",
    "\n",
    "            v. Fisher's Least Significant Difference (LSD) Test: Fisher's LSD test is a less conservative post \n",
    "               hoc test that is used when the assumptions of homogeneity of variances and equal sample sizes are met. \n",
    "'''"
   ]
  },
  {
   "cell_type": "code",
   "execution_count": 32,
   "id": "56b56682-af9e-41f6-9baa-a9d895f05469",
   "metadata": {},
   "outputs": [
    {
     "name": "stdout",
     "output_type": "stream",
     "text": [
      "Collecting pingouin\n",
      "  Downloading pingouin-0.5.3-py3-none-any.whl (198 kB)\n",
      "\u001b[2K     \u001b[90m━━━━━━━━━━━━━━━━━━━━━━━━━━━━━━━━━━━━━━\u001b[0m \u001b[32m198.6/198.6 kB\u001b[0m \u001b[31m14.9 MB/s\u001b[0m eta \u001b[36m0:00:00\u001b[0m\n",
      "\u001b[?25hRequirement already satisfied: seaborn>=0.11 in /opt/conda/lib/python3.10/site-packages (from pingouin) (0.12.1)\n",
      "Requirement already satisfied: matplotlib>=3.0.2 in /opt/conda/lib/python3.10/site-packages (from pingouin) (3.6.2)\n",
      "Requirement already satisfied: scikit-learn in /opt/conda/lib/python3.10/site-packages (from pingouin) (1.2.0)\n",
      "Collecting outdated\n",
      "  Downloading outdated-0.2.2-py2.py3-none-any.whl (7.5 kB)\n",
      "Collecting tabulate\n",
      "  Downloading tabulate-0.9.0-py3-none-any.whl (35 kB)\n",
      "Requirement already satisfied: scipy>=1.7 in /opt/conda/lib/python3.10/site-packages (from pingouin) (1.9.3)\n",
      "Requirement already satisfied: statsmodels>=0.13 in /opt/conda/lib/python3.10/site-packages (from pingouin) (0.13.5)\n",
      "Requirement already satisfied: pandas>=1.0 in /opt/conda/lib/python3.10/site-packages (from pingouin) (1.5.2)\n",
      "Requirement already satisfied: numpy>=1.19 in /opt/conda/lib/python3.10/site-packages (from pingouin) (1.23.5)\n",
      "Collecting pandas-flavor>=0.2.0\n",
      "  Downloading pandas_flavor-0.5.0-py3-none-any.whl (7.1 kB)\n",
      "Requirement already satisfied: contourpy>=1.0.1 in /opt/conda/lib/python3.10/site-packages (from matplotlib>=3.0.2->pingouin) (1.0.6)\n",
      "Requirement already satisfied: pillow>=6.2.0 in /opt/conda/lib/python3.10/site-packages (from matplotlib>=3.0.2->pingouin) (9.2.0)\n",
      "Requirement already satisfied: pyparsing>=2.2.1 in /opt/conda/lib/python3.10/site-packages (from matplotlib>=3.0.2->pingouin) (3.0.9)\n",
      "Requirement already satisfied: python-dateutil>=2.7 in /opt/conda/lib/python3.10/site-packages (from matplotlib>=3.0.2->pingouin) (2.8.2)\n",
      "Requirement already satisfied: fonttools>=4.22.0 in /opt/conda/lib/python3.10/site-packages (from matplotlib>=3.0.2->pingouin) (4.38.0)\n",
      "Requirement already satisfied: kiwisolver>=1.0.1 in /opt/conda/lib/python3.10/site-packages (from matplotlib>=3.0.2->pingouin) (1.4.4)\n",
      "Requirement already satisfied: packaging>=20.0 in /opt/conda/lib/python3.10/site-packages (from matplotlib>=3.0.2->pingouin) (22.0)\n",
      "Requirement already satisfied: cycler>=0.10 in /opt/conda/lib/python3.10/site-packages (from matplotlib>=3.0.2->pingouin) (0.11.0)\n",
      "Requirement already satisfied: pytz>=2020.1 in /opt/conda/lib/python3.10/site-packages (from pandas>=1.0->pingouin) (2022.6)\n",
      "Collecting lazy-loader>=0.1\n",
      "  Downloading lazy_loader-0.2-py3-none-any.whl (8.6 kB)\n",
      "Collecting xarray\n",
      "  Downloading xarray-2023.3.0-py3-none-any.whl (981 kB)\n",
      "\u001b[2K     \u001b[90m━━━━━━━━━━━━━━━━━━━━━━━━━━━━━━━━━━━━━━\u001b[0m \u001b[32m981.2/981.2 kB\u001b[0m \u001b[31m66.8 MB/s\u001b[0m eta \u001b[36m0:00:00\u001b[0m\n",
      "\u001b[?25hRequirement already satisfied: patsy>=0.5.2 in /opt/conda/lib/python3.10/site-packages (from statsmodels>=0.13->pingouin) (0.5.3)\n",
      "Collecting littleutils\n",
      "  Downloading littleutils-0.2.2.tar.gz (6.6 kB)\n",
      "  Preparing metadata (setup.py) ... \u001b[?25ldone\n",
      "\u001b[?25hRequirement already satisfied: requests in /opt/conda/lib/python3.10/site-packages (from outdated->pingouin) (2.28.1)\n",
      "Requirement already satisfied: setuptools>=44 in /opt/conda/lib/python3.10/site-packages (from outdated->pingouin) (65.5.1)\n",
      "Requirement already satisfied: threadpoolctl>=2.0.0 in /opt/conda/lib/python3.10/site-packages (from scikit-learn->pingouin) (3.1.0)\n",
      "Requirement already satisfied: joblib>=1.1.1 in /opt/conda/lib/python3.10/site-packages (from scikit-learn->pingouin) (1.2.0)\n",
      "Requirement already satisfied: six in /opt/conda/lib/python3.10/site-packages (from patsy>=0.5.2->statsmodels>=0.13->pingouin) (1.16.0)\n",
      "Requirement already satisfied: charset-normalizer<3,>=2 in /opt/conda/lib/python3.10/site-packages (from requests->outdated->pingouin) (2.1.1)\n",
      "Requirement already satisfied: certifi>=2017.4.17 in /opt/conda/lib/python3.10/site-packages (from requests->outdated->pingouin) (2022.12.7)\n",
      "Requirement already satisfied: urllib3<1.27,>=1.21.1 in /opt/conda/lib/python3.10/site-packages (from requests->outdated->pingouin) (1.26.13)\n",
      "Requirement already satisfied: idna<4,>=2.5 in /opt/conda/lib/python3.10/site-packages (from requests->outdated->pingouin) (3.4)\n",
      "Building wheels for collected packages: littleutils\n",
      "  Building wheel for littleutils (setup.py) ... \u001b[?25ldone\n",
      "\u001b[?25h  Created wheel for littleutils: filename=littleutils-0.2.2-py3-none-any.whl size=7028 sha256=69886c28dd62810eb47d6f3a28794f597762bd4839bf25a9b62464be8ed32e30\n",
      "  Stored in directory: /home/jovyan/.cache/pip/wheels/e0/3b/9c/d55ff5bc6cfbe70537c4731a22f2ee2462c2e5010b56ac9726\n",
      "Successfully built littleutils\n",
      "Installing collected packages: littleutils, tabulate, lazy-loader, outdated, xarray, pandas-flavor, pingouin\n",
      "Successfully installed lazy-loader-0.2 littleutils-0.2.2 outdated-0.2.2 pandas-flavor-0.5.0 pingouin-0.5.3 tabulate-0.9.0 xarray-2023.3.0\n",
      "Note: you may need to restart the kernel to use updated packages.\n"
     ]
    }
   ],
   "source": [
    "pip install pingouin"
   ]
  },
  {
   "cell_type": "code",
   "execution_count": 33,
   "id": "bf8d5227-a67f-4216-b780-26216fb87fe4",
   "metadata": {},
   "outputs": [],
   "source": [
    "import scipy.stats as stats\n",
    "import numpy as np\n",
    "import pandas as pd\n",
    "from pingouin import anova"
   ]
  },
  {
   "cell_type": "code",
   "execution_count": 8,
   "id": "0e805bfc-438f-442a-9df6-f165407946f0",
   "metadata": {},
   "outputs": [
    {
     "name": "stdout",
     "output_type": "stream",
     "text": [
      "We reject the null hypothesis i.e. there is significant difference between the diet used.\n"
     ]
    }
   ],
   "source": [
    "#Ans9\n",
    "grp1=np.random.uniform(1,10,16)\n",
    "grp2=np.random.uniform(1,10,16)\n",
    "grp3=np.random.uniform(1,10,18)\n",
    "sl=0.05\n",
    "f_statistics,p_value=stats.f_oneway(grp1,grp2,grp3)\n",
    "if (sl>p_value):\n",
    "    print('We reject the null hypothesis i.e. there is significant difference between the diet used.')\n",
    "else: \n",
    "    print('We accept the null hypothesis i.e. there is no difference between the diet A,B,C')"
   ]
  },
  {
   "cell_type": "code",
   "execution_count": 11,
   "id": "2ed65e5a-d0d0-4d8b-9d42-b61104db1bc4",
   "metadata": {},
   "outputs": [
    {
     "name": "stdout",
     "output_type": "stream",
     "text": [
      "Results of Two-Way ANOVA:\n",
      "Main Effect of Program:\n",
      "F-value:  0.9204681884564281\n",
      "p-value:  0.40217627744392137\n",
      "\n",
      "Main Effect of Experience:\n",
      "F-value:  0.22238387187645808\n",
      "p-value:  0.6383966167464297\n",
      "\n",
      "Interaction Effect between Program and Experience:\n",
      "F-value:  0.5144062317890339\n",
      "p-value:  0.7252266317708314\n"
     ]
    }
   ],
   "source": [
    "\n",
    "np.random.seed(123)  \n",
    "program = np.random.choice(['A', 'B', 'C'], size=90)\n",
    "experience = np.random.choice(['Novice', 'Experienced'], size=90)\n",
    "time = np.random.normal(loc=10, scale=2, size=90)\n",
    "\n",
    "program_a = time[program == 'A']\n",
    "program_b = time[program == 'B']\n",
    "program_c = time[program == 'C']\n",
    "experience_novice = time[experience == 'Novice']\n",
    "experience_experienced = time[experience == 'Experienced']\n",
    "\n",
    "F_program, p_program = stats.f_oneway(program_a, program_b, program_c)\n",
    "F_experience, p_experience = stats.f_oneway(experience_novice, experience_experienced)\n",
    "F_interaction, p_interaction = stats.f_oneway(program_a, program_b, program_c, experience_novice, experience_experienced)\n",
    "print(\"Results of Two-Way ANOVA:\")\n",
    "print(\"Main Effect of Program:\")\n",
    "print(\"F-value: \", F_program)\n",
    "print(\"p-value: \", p_program)\n",
    "print(\"\\nMain Effect of Experience:\")\n",
    "print(\"F-value: \", F_experience)\n",
    "print(\"p-value: \", p_experience)\n",
    "print(\"\\nInteraction Effect between Program and Experience:\")\n",
    "print(\"F-value: \", F_interaction)\n",
    "print(\"p-value: \", p_interaction)\n"
   ]
  },
  {
   "cell_type": "code",
   "execution_count": 30,
   "id": "061ded7b-ed39-491f-9b7a-b794689ec98a",
   "metadata": {},
   "outputs": [
    {
     "data": {
      "text/html": [
       "<div>\n",
       "<style scoped>\n",
       "    .dataframe tbody tr th:only-of-type {\n",
       "        vertical-align: middle;\n",
       "    }\n",
       "\n",
       "    .dataframe tbody tr th {\n",
       "        vertical-align: top;\n",
       "    }\n",
       "\n",
       "    .dataframe thead th {\n",
       "        text-align: right;\n",
       "    }\n",
       "</style>\n",
       "<table border=\"1\" class=\"dataframe\">\n",
       "  <thead>\n",
       "    <tr style=\"text-align: right;\">\n",
       "      <th></th>\n",
       "      <th>Program A</th>\n",
       "      <th>Program B</th>\n",
       "      <th>Program C</th>\n",
       "      <th>Experience level</th>\n",
       "    </tr>\n",
       "  </thead>\n",
       "  <tbody>\n",
       "    <tr>\n",
       "      <th>0</th>\n",
       "      <td>7.250961</td>\n",
       "      <td>4.154789</td>\n",
       "      <td>4.701613</td>\n",
       "      <td>novic</td>\n",
       "    </tr>\n",
       "    <tr>\n",
       "      <th>1</th>\n",
       "      <td>5.498833</td>\n",
       "      <td>5.900732</td>\n",
       "      <td>4.196423</td>\n",
       "      <td>novic</td>\n",
       "    </tr>\n",
       "    <tr>\n",
       "      <th>2</th>\n",
       "      <td>5.192653</td>\n",
       "      <td>5.411166</td>\n",
       "      <td>4.983675</td>\n",
       "      <td>novic</td>\n",
       "    </tr>\n",
       "    <tr>\n",
       "      <th>3</th>\n",
       "      <td>5.983713</td>\n",
       "      <td>4.848275</td>\n",
       "      <td>5.823441</td>\n",
       "      <td>novic</td>\n",
       "    </tr>\n",
       "    <tr>\n",
       "      <th>4</th>\n",
       "      <td>5.918066</td>\n",
       "      <td>6.411093</td>\n",
       "      <td>4.018798</td>\n",
       "      <td>novic</td>\n",
       "    </tr>\n",
       "    <tr>\n",
       "      <th>5</th>\n",
       "      <td>4.005213</td>\n",
       "      <td>5.816086</td>\n",
       "      <td>3.384371</td>\n",
       "      <td>Experienced</td>\n",
       "    </tr>\n",
       "    <tr>\n",
       "      <th>6</th>\n",
       "      <td>4.209018</td>\n",
       "      <td>3.794039</td>\n",
       "      <td>4.549100</td>\n",
       "      <td>Experienced</td>\n",
       "    </tr>\n",
       "    <tr>\n",
       "      <th>7</th>\n",
       "      <td>5.733348</td>\n",
       "      <td>5.768262</td>\n",
       "      <td>3.344330</td>\n",
       "      <td>novic</td>\n",
       "    </tr>\n",
       "    <tr>\n",
       "      <th>8</th>\n",
       "      <td>4.827184</td>\n",
       "      <td>6.649989</td>\n",
       "      <td>5.627862</td>\n",
       "      <td>Experienced</td>\n",
       "    </tr>\n",
       "    <tr>\n",
       "      <th>9</th>\n",
       "      <td>6.579927</td>\n",
       "      <td>4.843466</td>\n",
       "      <td>4.487972</td>\n",
       "      <td>Experienced</td>\n",
       "    </tr>\n",
       "  </tbody>\n",
       "</table>\n",
       "</div>"
      ],
      "text/plain": [
       "   Program A  Program B  Program C Experience level\n",
       "0   7.250961   4.154789   4.701613            novic\n",
       "1   5.498833   5.900732   4.196423            novic\n",
       "2   5.192653   5.411166   4.983675            novic\n",
       "3   5.983713   4.848275   5.823441            novic\n",
       "4   5.918066   6.411093   4.018798            novic\n",
       "5   4.005213   5.816086   3.384371      Experienced\n",
       "6   4.209018   3.794039   4.549100      Experienced\n",
       "7   5.733348   5.768262   3.344330            novic\n",
       "8   4.827184   6.649989   5.627862      Experienced\n",
       "9   6.579927   4.843466   4.487972      Experienced"
      ]
     },
     "execution_count": 30,
     "metadata": {},
     "output_type": "execute_result"
    }
   ],
   "source": [
    "#Ans10:\n",
    "pgA=np.random.normal(5,1.2,10)\n",
    "pgB=np.random.normal(5,1.2,10)\n",
    "pgC=np.random.normal(5,1.2,10)\n",
    "ex=['novic','Experienced']\n",
    "Ex_level=np.random.choice(ex,size=10)\n",
    "prgA=pd.DataFrame({'Program A':pgA,'Program B':pgB,'Program C':pgC,'Experience level':Ex_level})\n",
    "# prgB=pd.DataFrame({'Program B':pgB,'Experience level':Ex_level})\n",
    "# prgC=pd.DataFrame({'Program C':pgC,'Experience level':Ex_level})\n",
    "result=anova(data=prgA,dv='Experience level',between=['Program A','Experience level'])\n",
    "res"
   ]
  },
  {
   "cell_type": "code",
   "execution_count": 20,
   "id": "e1a54125-0975-4c08-825a-5f688b51724f",
   "metadata": {},
   "outputs": [
    {
     "name": "stdout",
     "output_type": "stream",
     "text": [
      "Results of Two-Sample t-test:\n",
      "t-statistic:  -2.1503901821646676\n",
      "p-value:  0.03398436590335512\n",
      "\n",
      "Results of Tukey's HSD Test:\n",
      "   Multiple Comparison of Means - Tukey HSD, FWER=0.05   \n",
      "=========================================================\n",
      " group1    group2    meandiff p-adj lower   upper  reject\n",
      "---------------------------------------------------------\n",
      "Control Experimental   5.3586 0.034 0.4135 10.3038   True\n",
      "---------------------------------------------------------\n"
     ]
    }
   ],
   "source": [
    "#Ans11\n",
    "from statsmodels.stats.multicomp import pairwise_tukeyhsd\n",
    "\n",
    "\n",
    "np.random.seed(123)  \n",
    "control_group = np.random.normal(loc=70, scale=10, size=50)\n",
    "experimental_group = np.random.normal(loc=75, scale=12, size=50)\n",
    "\n",
    "t_stat, p_value = stats.ttest_ind(control_group, experimental_group)\n",
    "\n",
    "print(\"Results of Two-Sample t-test:\")\n",
    "print(\"t-statistic: \", t_stat)\n",
    "print(\"p-value: \", p_value)\n",
    "\n",
    "\n",
    "data = np.concatenate([control_group, experimental_group])\n",
    "groups = np.concatenate([['Control'] * len(control_group), ['Experimental'] * len(experimental_group)])\n",
    "tukey_results = pairwise_tukeyhsd(data, groups)\n",
    "\n",
    "\\\n",
    "print(\"\\nResults of Tukey's HSD Test:\")\n",
    "print(tukey_results)\n"
   ]
  },
  {
   "cell_type": "code",
   "execution_count": 27,
   "id": "02f412f4-fcb2-4831-a165-3f6775faab36",
   "metadata": {},
   "outputs": [
    {
     "data": {
      "text/html": [
       "<div>\n",
       "<style scoped>\n",
       "    .dataframe tbody tr th:only-of-type {\n",
       "        vertical-align: middle;\n",
       "    }\n",
       "\n",
       "    .dataframe tbody tr th {\n",
       "        vertical-align: top;\n",
       "    }\n",
       "\n",
       "    .dataframe thead th {\n",
       "        text-align: right;\n",
       "    }\n",
       "</style>\n",
       "<table border=\"1\" class=\"dataframe\">\n",
       "  <thead>\n",
       "    <tr style=\"text-align: right;\">\n",
       "      <th></th>\n",
       "      <th>group</th>\n",
       "      <th>experience</th>\n",
       "      <th>score</th>\n",
       "    </tr>\n",
       "  </thead>\n",
       "  <tbody>\n",
       "    <tr>\n",
       "      <th>0</th>\n",
       "      <td>A</td>\n",
       "      <td>novice</td>\n",
       "      <td>89</td>\n",
       "    </tr>\n",
       "    <tr>\n",
       "      <th>1</th>\n",
       "      <td>B</td>\n",
       "      <td>experienced</td>\n",
       "      <td>91</td>\n",
       "    </tr>\n",
       "    <tr>\n",
       "      <th>2</th>\n",
       "      <td>C</td>\n",
       "      <td>extra</td>\n",
       "      <td>88</td>\n",
       "    </tr>\n",
       "  </tbody>\n",
       "</table>\n",
       "</div>"
      ],
      "text/plain": [
       "  group   experience  score\n",
       "0     A       novice     89\n",
       "1     B  experienced     91\n",
       "2     C        extra     88"
      ]
     },
     "execution_count": 27,
     "metadata": {},
     "output_type": "execute_result"
    }
   ],
   "source": [
    " pd.DataFrame({'group': ['A', 'B', 'C'],\n",
    "                     'experience': ['novice', 'experienced','extra'],\n",
    "                     'score': [89, 91, 88]})\n"
   ]
  },
  {
   "cell_type": "code",
   "execution_count": null,
   "id": "6d029996-a927-4de6-88ee-2933f0fb06d0",
   "metadata": {},
   "outputs": [],
   "source": []
  }
 ],
 "metadata": {
  "kernelspec": {
   "display_name": "Python 3 (ipykernel)",
   "language": "python",
   "name": "python3"
  },
  "language_info": {
   "codemirror_mode": {
    "name": "ipython",
    "version": 3
   },
   "file_extension": ".py",
   "mimetype": "text/x-python",
   "name": "python",
   "nbconvert_exporter": "python",
   "pygments_lexer": "ipython3",
   "version": "3.10.8"
  }
 },
 "nbformat": 4,
 "nbformat_minor": 5
}
